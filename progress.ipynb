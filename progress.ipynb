{
 "cells": [
  {
   "cell_type": "code",
   "execution_count": 1,
   "metadata": {},
   "outputs": [],
   "source": [
    "import numpy as np\n",
    "import dezero.functions as F\n",
    "\n",
    "from dezero.core import Variable\n",
    "from dezero.utils import numerical_diff"
   ]
  },
  {
   "cell_type": "markdown",
   "metadata": {},
   "source": [
    "### **1. 변수 (Variable)**"
   ]
  },
  {
   "cell_type": "code",
   "execution_count": 2,
   "metadata": {},
   "outputs": [
    {
     "name": "stdout",
     "output_type": "stream",
     "text": [
      "val: 1.0, dim: 0\n"
     ]
    }
   ],
   "source": [
    "data = np.array(1.0)\n",
    "x = Variable(data)      # x는 Variable의 인스턴스\n",
    "\n",
    "print(f\"val: {x.data}, dim: {x.data.ndim}\")"
   ]
  },
  {
   "cell_type": "markdown",
   "metadata": {},
   "source": [
    "### **2. 함수 (Function)**"
   ]
  },
  {
   "cell_type": "code",
   "execution_count": 3,
   "metadata": {},
   "outputs": [
    {
     "name": "stdout",
     "output_type": "stream",
     "text": [
      "val: 100, type: <class 'dezero.core.Variable'>\n"
     ]
    }
   ],
   "source": [
    "x = Variable(np.array(10))\n",
    "f = F.Square()    # Function 클래스를 상속\n",
    "y = f(x)        # 입력으로 사용되는 x는 Variable 인스턴스\n",
    "\n",
    "print(f\"val: {y.data}, type: {type(y)}\")"
   ]
  },
  {
   "cell_type": "markdown",
   "metadata": {},
   "source": [
    "### 3. **함수 연결 (Composite Function)**"
   ]
  },
  {
   "cell_type": "code",
   "execution_count": 4,
   "metadata": {},
   "outputs": [
    {
     "name": "stdout",
     "output_type": "stream",
     "text": [
      "val:  1.6487, type: <class 'dezero.core.Variable'>\n"
     ]
    }
   ],
   "source": [
    "sqr = F.Square()\n",
    "exp = F.Exp()\n",
    "\n",
    "# 합성 함수를 통해 \"계산 그래프\" 생성\n",
    "x = Variable(np.array(0.5))\n",
    "h1 = sqr(x)\n",
    "h2 = exp(h1)\n",
    "y = sqr(h2)\n",
    "\n",
    "print(f\"val: {y.data: .4f}, type: {type(y)}\")"
   ]
  },
  {
   "cell_type": "markdown",
   "metadata": {},
   "source": [
    "### **4. 수치 미분 (Numerical Differential)**\n",
    "\n",
    "- 중앙 차분: x + h와 x - h의 값을 이용한 미분 (오차 최소화)\n",
    "- 정확도: 유효 자릿수 누락으로 인한 오차 발생\n",
    "- 계산 비용: 편미분 수행 시(변수가 여러 개인 경우), 각 변수를 찾아 연산을 수행해주어야 함"
   ]
  },
  {
   "cell_type": "code",
   "execution_count": 5,
   "metadata": {},
   "outputs": [
    {
     "name": "stdout",
     "output_type": "stream",
     "text": [
      "3.2974426293330694\n"
     ]
    }
   ],
   "source": [
    "def f(x):\n",
    "    sqr = F.Square()\n",
    "    exp = F.Exp()\n",
    "\n",
    "    return sqr(exp(sqr(x)))\n",
    "\n",
    "x = Variable(np.array(0.5))\n",
    "dy = numerical_diff(f, x) # 중앙 차분을 이용한 수치 미분\n",
    "print(dy)"
   ]
  },
  {
   "cell_type": "markdown",
   "metadata": {},
   "source": [
    "### **5. 역전파 (Backward Pass)**\n",
    "\n",
    "- 수치 미분과 달리, 자신과 관계된 정보만을 계산\n",
    "- 연쇄 법칙을 이용하여 미분을 수행하기 때문에 한 번의 역전파로 미분값 계산 가능"
   ]
  },
  {
   "cell_type": "code",
   "execution_count": 6,
   "metadata": {},
   "outputs": [
    {
     "name": "stdout",
     "output_type": "stream",
     "text": [
      "3.297442541400256\n"
     ]
    }
   ],
   "source": [
    "# 서로 다른 인스턴스를 생성해야만 forward 시 저장한 정보가 겹치지 않음\n",
    "sqr1 = F.Square()\n",
    "exp = F.Exp()\n",
    "sqr2 = F.Square()\n",
    "\n",
    "# 순전파 (Forward pass)\n",
    "x = Variable(np.array(0.5))\n",
    "h1 = sqr1(x)\n",
    "h2 = exp(h1)\n",
    "y = sqr2(h2)\n",
    "\n",
    "# 역전파 (Backward pass)\n",
    "y.grad = np.array(1.0)  # y의 gradient를 1로 설정 (자기 자신이므로)\n",
    "h2.grad = sqr1.backward(y.grad)\n",
    "h1.grad = exp.backward(h2.grad)\n",
    "x.grad = sqr2.backward(h1.grad)\n",
    "\n",
    "print(x.grad) # 미분값"
   ]
  },
  {
   "cell_type": "markdown",
   "metadata": {},
   "source": [
    "### 6. **자동 미분 (Auto Gradient)**"
   ]
  },
  {
   "cell_type": "code",
   "execution_count": 7,
   "metadata": {},
   "outputs": [
    {
     "name": "stdout",
     "output_type": "stream",
     "text": [
      "3.297442541400256\n"
     ]
    }
   ],
   "source": [
    "sqr1 = F.Square()\n",
    "exp = F.Exp()\n",
    "sqr2 = F.Square()\n",
    "\n",
    "# 순전파 (Forward pass)\n",
    "x = Variable(np.array(0.5))\n",
    "h1 = sqr1(x)\n",
    "h2 = exp(h1)\n",
    "y = sqr2(h2)\n",
    "\n",
    "# 역전파\n",
    "y.grad = 1.0\n",
    "y.backward()\n",
    "print(x.grad)"
   ]
  },
  {
   "cell_type": "markdown",
   "metadata": {},
   "source": [
    "### **7. 편의성 개선**\n",
    "\n",
    "- 각 함수 및 클래스의 목적에 맞게 파일 분리 (Refactorizing)\n",
    "- functions의 각 클래스를 함수로 호출할 수 있도록 추가\n",
    "- Variable: backward 호출을 재귀에서 반복문으로 변경 / ndarray 자료형만 입력으로 허용\n",
    "- Function: np.ones_like를 활용하여 data와 동일한 자료형으로 gradient 초기화\n",
    "- as_array: 0차원 ndarray 계산 결과인 스칼라 값을 다시 array로 변경"
   ]
  },
  {
   "cell_type": "code",
   "execution_count": 8,
   "metadata": {},
   "outputs": [
    {
     "name": "stdout",
     "output_type": "stream",
     "text": [
      "3.297442541400256\n"
     ]
    }
   ],
   "source": [
    "x = Variable(np.array(0.5))\n",
    "y = F.square(F.exp(F.square(x)))\n",
    "y.backward()\n",
    "print(x.grad)"
   ]
  },
  {
   "cell_type": "markdown",
   "metadata": {},
   "source": [
    "### **8. 테스트 (Test)**"
   ]
  },
  {
   "cell_type": "code",
   "execution_count": 9,
   "metadata": {},
   "outputs": [
    {
     "name": "stdout",
     "output_type": "stream",
     "text": [
      "...\n",
      "----------------------------------------------------------------------\n",
      "Ran 3 tests in 0.001s\n",
      "\n",
      "OK\n"
     ]
    }
   ],
   "source": [
    "# 특정 테스트 코드 실행\n",
    "!python3 -m unittest tests/test_square.py"
   ]
  },
  {
   "cell_type": "code",
   "execution_count": 10,
   "metadata": {},
   "outputs": [
    {
     "name": "stdout",
     "output_type": "stream",
     "text": [
      "...\n",
      "----------------------------------------------------------------------\n",
      "Ran 3 tests in 0.001s\n",
      "\n",
      "OK\n"
     ]
    }
   ],
   "source": [
    "# 모든 테스트 코드 실행\n",
    "!python3 -m unittest discover tests"
   ]
  },
  {
   "cell_type": "markdown",
   "metadata": {},
   "source": [
    "### **9. 가변 길이 (Variable Length)**"
   ]
  },
  {
   "cell_type": "code",
   "execution_count": 18,
   "metadata": {},
   "outputs": [
    {
     "name": "stdout",
     "output_type": "stream",
     "text": [
      "forward: 13.0\n",
      "backward: 4.0, 6.0\n"
     ]
    }
   ],
   "source": [
    "x0, x1 = Variable(np.array(2.0)), Variable(np.array(3.0))\n",
    "\n",
    "z = F.add(F.square(x0), F.square(x1))\n",
    "z.backward()\n",
    "\n",
    "print(f\"forward: {z.data}\\nbackward: {x0.grad}, {x1.grad}\")"
   ]
  },
  {
   "cell_type": "markdown",
   "metadata": {},
   "source": [
    "### **10. Variable 완성**\n",
    "\n",
    "- 같은 변수 반복 사용 문제 해결\n",
    "- 복잡한 계산 그래프 시 각 함수의 우선순위 문제 해결"
   ]
  },
  {
   "cell_type": "code",
   "execution_count": 3,
   "metadata": {},
   "outputs": [
    {
     "name": "stdout",
     "output_type": "stream",
     "text": [
      "forward: 32.0\n",
      "backward: 64.0\n"
     ]
    }
   ],
   "source": [
    "x = Variable(np.array(2.0))\n",
    "a = F.square(x)\n",
    "y = F.add(F.square(a), F.square(a))\n",
    "y.backward()\n",
    "\n",
    "print(f\"forward: {y.data}\\nbackward: {x.grad}\")"
   ]
  },
  {
   "cell_type": "code",
   "execution_count": null,
   "metadata": {},
   "outputs": [],
   "source": []
  }
 ],
 "metadata": {
  "kernelspec": {
   "display_name": "Python 3",
   "language": "python",
   "name": "python3"
  },
  "language_info": {
   "codemirror_mode": {
    "name": "ipython",
    "version": 3
   },
   "file_extension": ".py",
   "mimetype": "text/x-python",
   "name": "python",
   "nbconvert_exporter": "python",
   "pygments_lexer": "ipython3",
   "version": "3.8.10"
  }
 },
 "nbformat": 4,
 "nbformat_minor": 2
}
