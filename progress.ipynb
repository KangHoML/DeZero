{
 "cells": [
  {
   "cell_type": "code",
   "execution_count": 1,
   "metadata": {},
   "outputs": [],
   "source": [
    "import numpy as np\n",
    "from chapter1 import *"
   ]
  },
  {
   "cell_type": "markdown",
   "metadata": {},
   "source": [
    "### **1. 변수 (Variable)**"
   ]
  },
  {
   "cell_type": "code",
   "execution_count": 2,
   "metadata": {},
   "outputs": [
    {
     "name": "stdout",
     "output_type": "stream",
     "text": [
      "val: 1.0, dim: 0\n"
     ]
    }
   ],
   "source": [
    "data = np.array(1.0)\n",
    "x = Variable(data)      # x는 Variable의 인스턴스\n",
    "\n",
    "print(f\"val: {x.data}, dim: {x.data.ndim}\")"
   ]
  },
  {
   "cell_type": "markdown",
   "metadata": {},
   "source": [
    "### **2. 함수 (Function)**"
   ]
  },
  {
   "cell_type": "code",
   "execution_count": 3,
   "metadata": {},
   "outputs": [
    {
     "name": "stdout",
     "output_type": "stream",
     "text": [
      "val: 100, type: <class 'chapter1.Variable'>\n"
     ]
    }
   ],
   "source": [
    "x = Variable(np.array(10))\n",
    "f = Square()    # Function 클래스를 상속\n",
    "y = f(x)        # 입력으로 사용되는 x는 Variable 인스턴스\n",
    "\n",
    "print(f\"val: {y.data}, type: {type(y)}\")"
   ]
  },
  {
   "cell_type": "markdown",
   "metadata": {},
   "source": [
    "### 3. **함수 연결 (Composite Function)**"
   ]
  },
  {
   "cell_type": "code",
   "execution_count": 7,
   "metadata": {},
   "outputs": [
    {
     "name": "stdout",
     "output_type": "stream",
     "text": [
      "val:  1.6487, type: <class 'chapter1.Variable'>\n"
     ]
    }
   ],
   "source": [
    "sqr = Square()\n",
    "exp = Exp()\n",
    "\n",
    "# 합성 함수를 통해 \"계산 그래프\" 생성\n",
    "x = Variable(np.array(0.5))\n",
    "h1 = sqr(x)\n",
    "h2 = exp(h1)\n",
    "y = sqr(h2)\n",
    "\n",
    "print(f\"val: {y.data: .4f}, type: {type(y)}\")"
   ]
  },
  {
   "cell_type": "markdown",
   "metadata": {},
   "source": [
    "### **4. 수치 미분 (Numerical Differential)**"
   ]
  },
  {
   "cell_type": "code",
   "execution_count": 6,
   "metadata": {},
   "outputs": [
    {
     "name": "stdout",
     "output_type": "stream",
     "text": [
      " 0.000000032974\n"
     ]
    }
   ],
   "source": [
    "def f(x):\n",
    "    sqr = Square()\n",
    "    exp = Exp()\n",
    "\n",
    "    return sqr(exp(sqr(x)))\n",
    "\n",
    "x = Variable(np.array(0.5))\n",
    "dy = numerical_diff(f, x) # 중앙 차분을 이용한 수치 미분\n",
    "print(dy)"
   ]
  },
  {
   "cell_type": "code",
   "execution_count": null,
   "metadata": {},
   "outputs": [],
   "source": []
  }
 ],
 "metadata": {
  "kernelspec": {
   "display_name": "Python 3",
   "language": "python",
   "name": "python3"
  },
  "language_info": {
   "codemirror_mode": {
    "name": "ipython",
    "version": 3
   },
   "file_extension": ".py",
   "mimetype": "text/x-python",
   "name": "python",
   "nbconvert_exporter": "python",
   "pygments_lexer": "ipython3",
   "version": "3.8.10"
  }
 },
 "nbformat": 4,
 "nbformat_minor": 2
}
