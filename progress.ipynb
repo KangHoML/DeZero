{
 "cells": [
  {
   "cell_type": "code",
   "execution_count": 1,
   "metadata": {},
   "outputs": [],
   "source": [
    "import numpy as np\n",
    "from chapter1 import *"
   ]
  },
  {
   "cell_type": "markdown",
   "metadata": {},
   "source": [
    "### **1. 변수 (Variable)**"
   ]
  },
  {
   "cell_type": "code",
   "execution_count": 2,
   "metadata": {},
   "outputs": [
    {
     "name": "stdout",
     "output_type": "stream",
     "text": [
      "val: 1.0, dim: 0\n"
     ]
    }
   ],
   "source": [
    "data = np.array(1.0)\n",
    "x = Variable(data)      # x는 Variable의 인스턴스\n",
    "\n",
    "print(f\"val: {x.data}, dim: {x.data.ndim}\")"
   ]
  },
  {
   "cell_type": "markdown",
   "metadata": {},
   "source": [
    "### **2. 함수 (Function)**"
   ]
  },
  {
   "cell_type": "code",
   "execution_count": 3,
   "metadata": {},
   "outputs": [
    {
     "name": "stdout",
     "output_type": "stream",
     "text": [
      "val: 100, type: <class 'chapter1.Variable'>\n"
     ]
    }
   ],
   "source": [
    "x = Variable(np.array(10))\n",
    "f = Square()    # Function 클래스를 상속\n",
    "y = f(x)        # 입력으로 사용되는 x는 Variable 인스턴스\n",
    "\n",
    "print(f\"val: {y.data}, type: {type(y)}\")"
   ]
  },
  {
   "cell_type": "markdown",
   "metadata": {},
   "source": [
    "### 3. **함수 연결 (Composite Function)**"
   ]
  },
  {
   "cell_type": "code",
   "execution_count": 7,
   "metadata": {},
   "outputs": [
    {
     "name": "stdout",
     "output_type": "stream",
     "text": [
      "val:  1.6487, type: <class 'chapter1.Variable'>\n"
     ]
    }
   ],
   "source": [
    "sqr = Square()\n",
    "exp = Exp()\n",
    "\n",
    "# 합성 함수를 통해 \"계산 그래프\" 생성\n",
    "x = Variable(np.array(0.5))\n",
    "h1 = sqr(x)\n",
    "h2 = exp(h1)\n",
    "y = sqr(h2)\n",
    "\n",
    "print(f\"val: {y.data: .4f}, type: {type(y)}\")"
   ]
  },
  {
   "cell_type": "markdown",
   "metadata": {},
   "source": [
    "### **4. 수치 미분 (Numerical Differential)**\n",
    "\n",
    "- 중앙 차분: x + h와 x - h의 값을 이용한 미분 (오차 최소화)\n",
    "- 정확도: 유효 자릿수 누락으로 인한 오차 발생\n",
    "- 계산 비용: 편미분 수행 시(변수가 여러 개인 경우), 각 변수를 찾아 연산을 수행해주어야 함"
   ]
  },
  {
   "cell_type": "code",
   "execution_count": 3,
   "metadata": {},
   "outputs": [
    {
     "name": "stdout",
     "output_type": "stream",
     "text": [
      "3.29744262933307e-08\n"
     ]
    }
   ],
   "source": [
    "def f(x):\n",
    "    sqr = Square()\n",
    "    exp = Exp()\n",
    "\n",
    "    return sqr(exp(sqr(x)))\n",
    "\n",
    "x = Variable(np.array(0.5))\n",
    "dy = numerical_diff(f, x) # 중앙 차분을 이용한 수치 미분\n",
    "print(dy)"
   ]
  },
  {
   "cell_type": "markdown",
   "metadata": {},
   "source": [
    "### **5. 역전파 (Backward Pass)**\n",
    "\n",
    "- 수치 미분과 달리, 자신과 관계된 정보만을 계산\n",
    "- 연쇄 법칙을 이용하여 미분을 수행하기 때문에 한 번의 역전파로 미분값 계산 가능"
   ]
  },
  {
   "cell_type": "code",
   "execution_count": 13,
   "metadata": {},
   "outputs": [
    {
     "name": "stdout",
     "output_type": "stream",
     "text": [
      "3.297442541400256\n"
     ]
    }
   ],
   "source": [
    "# 서로 다른 인스턴스를 생성해야만 forward 시 저장한 정보가 겹치지 않음\n",
    "sqr1 = Square()\n",
    "exp = Exp()\n",
    "sqr2 = Square()\n",
    "\n",
    "# 순전파 (Forward pass)\n",
    "x = Variable(np.array(0.5))\n",
    "h1 = sqr1(x)\n",
    "h2 = exp(h1)\n",
    "y = sqr2(h2)\n",
    "\n",
    "# 역전파 (Backward pass)\n",
    "y.grad = np.array(1.0)  # y의 gradient를 1로 설정 (자기 자신이므로)\n",
    "h2.grad = sqr1.backward(y.grad)\n",
    "h1.grad = exp.backward(h2.grad)\n",
    "x.grad = sqr2.backward(h1.grad)\n",
    "\n",
    "print(x.grad) # 미분값"
   ]
  },
  {
   "cell_type": "markdown",
   "metadata": {},
   "source": [
    "### 6. **자동 미분 (Auto Gradient)**"
   ]
  },
  {
   "cell_type": "code",
   "execution_count": null,
   "metadata": {},
   "outputs": [],
   "source": [
    "sqr1 = Square()\n",
    "exp = Exp()\n",
    "sqr2 = Square()\n",
    "\n",
    "# 순전파 (Forward pass)\n",
    "x = Variable(np.array(0.5))\n",
    "h1 = sqr1(x)\n",
    "h2 = exp(h1)\n",
    "y = sqr2(h2)\n",
    "\n",
    "# 계산 그래프 (출력 -> 입력 방향)\n",
    "assert y.creator == sqr2\n",
    "assert y.creator.input == h2\n",
    "assert y.creator.input.creator == exp\n",
    "assert y.creator.input.creator.input == h1\n",
    "assert y.creator.input.creator.input.creator == sqr1\n",
    "assert y.creator.input.creator.input.creator.input == x"
   ]
  },
  {
   "cell_type": "code",
   "execution_count": null,
   "metadata": {},
   "outputs": [],
   "source": [
    "# 역전파\n",
    "y.grad = 1.0\n",
    "y.backward()\n",
    "print(x.grad)"
   ]
  }
 ],
 "metadata": {
  "kernelspec": {
   "display_name": "Python 3",
   "language": "python",
   "name": "python3"
  },
  "language_info": {
   "codemirror_mode": {
    "name": "ipython",
    "version": 3
   },
   "file_extension": ".py",
   "mimetype": "text/x-python",
   "name": "python",
   "nbconvert_exporter": "python",
   "pygments_lexer": "ipython3",
   "version": "3.10.12"
  }
 },
 "nbformat": 4,
 "nbformat_minor": 2
}
